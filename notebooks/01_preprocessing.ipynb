{
 "cells": [
  {
   "cell_type": "code",
   "execution_count": 28,
   "id": "e69abc19-fac1-4dac-a0ea-d55214cc29e7",
   "metadata": {},
   "outputs": [],
   "source": [
    "#constants\n",
    "DATA_PATH = '../data/raw/survey_results_public.csv'\n",
    "EXPORT_PATH = \"../data/processed/1_preprocessed_df.pkl\"\n",
    "\n",
    "REPLACE_DICT={\n",
    "   'YearsCodePro' : { 'Less than 1 year' :0 ,'More than 50 years' :51  } ,\n",
    "   'YearsCode'    : {'Less than 1 year' :0 , 'More than 50 years' :51  } ,\n",
    "   'Age1stCode'   : {'Younger than 5 years': 4 ,'Older than 85'   :86  } \n",
    "}\n"
   ]
  },
  {
   "cell_type": "markdown",
   "id": "f7b4f6f0-fdb2-4b8e-9856-01af1a050317",
   "metadata": {},
   "source": [
    "# Functions"
   ]
  },
  {
   "cell_type": "code",
   "execution_count": 29,
   "id": "76220a0c-a7d8-4b60-ac65-eaf90212f306",
   "metadata": {},
   "outputs": [],
   "source": [
    "def split_answers(data_series, delimiter=\";\"):\n",
    "    \"\"\" \n",
    "    Split multiple answers in a single string \n",
    "    to a list of single strings each represnting a single answers \n",
    "\n",
    "    Parameters:\n",
    "    * data_series (pd.Series): String series with answers \n",
    "    * delimiter (string): Another decimal integer \n",
    "                          Defaults to \";\"\n",
    "\n",
    "    Returns: (pd.Series): If column contains \n",
    "    \"\"\"\n",
    "    \n",
    "    # Sub functions \n",
    "    def is_splittable(pd_series, delimiter):\n",
    "        \"\"\" Check if results multiple should be splitted - Returns boolean \"\"\"    \n",
    "        return pd_series.str.contains(delimiter)\n",
    "    \n",
    "    def split_answer(pd_series, delimiter): \n",
    "        \"\"\"Function to split single answer\"\"\"\n",
    "        return pd_series.str.split(delimiter)\n",
    "    \n",
    "    # --------------------\n",
    "    \n",
    "    # Check if multiple answers exist - if none: return original \n",
    "    splittable_values = is_splittable(data_series, delimiter)\n",
    "    if not splittable_values.any():\n",
    "        return data_series\n",
    "    \n",
    "    # Else, split each value to a list \n",
    "    modified_series = split_answer(data_series, delimiter)    \n",
    "    \n",
    "    # Replace NAs with empty lists \n",
    "    mask_null = modified_series.isnull()\n",
    "    modified_series.loc[mask_null] = modified_series.loc[mask_null].apply(lambda x: [])\n",
    "    \n",
    "    return modified_series"
   ]
  },
  {
   "cell_type": "code",
   "execution_count": 30,
   "id": "446b249c-5526-4b2c-992c-e2b8287c1c84",
   "metadata": {},
   "outputs": [],
   "source": [
    "#load packages\n",
    "import pandas as pd\n",
    "import numpy as np \n",
    "import logging \n",
    "import pickle"
   ]
  },
  {
   "cell_type": "markdown",
   "id": "cfea5870-0d4d-4447-9770-9ff6e9663d8f",
   "metadata": {},
   "source": [
    "# processing"
   ]
  },
  {
   "cell_type": "markdown",
   "id": "4842713d-e2f3-4441-801b-0e7110667546",
   "metadata": {},
   "source": [
    "## Preprcoess Data"
   ]
  },
  {
   "cell_type": "code",
   "execution_count": 31,
   "id": "87853887-68d0-4477-9f89-87b550366d10",
   "metadata": {},
   "outputs": [],
   "source": [
    "raw_df=pd.read_csv(DATA_PATH)\n",
    "df=raw_df.copy()"
   ]
  },
  {
   "cell_type": "markdown",
   "id": "5ec711f6-85de-4c46-b041-f3fa20c45c18",
   "metadata": {},
   "source": [
    "### 1) Replace Values and Parse"
   ]
  },
  {
   "cell_type": "code",
   "execution_count": 32,
   "id": "f04408c0-c0df-433a-a382-0ae55f67fa39",
   "metadata": {},
   "outputs": [],
   "source": [
    "for col ,replacement in REPLACE_DICT.items():\n",
    "    df[col]=df[col].replace(replacement).astype(np.float32)"
   ]
  },
  {
   "cell_type": "markdown",
   "id": "1d31beb3-4847-4ce0-8b8f-0c8e590bc011",
   "metadata": {},
   "source": [
    "### 2) Split Multi Values"
   ]
  },
  {
   "cell_type": "code",
   "execution_count": 33,
   "id": "9d6d4693-6690-4205-84e3-b1a5947e5939",
   "metadata": {},
   "outputs": [],
   "source": [
    "#convert columns to list\n",
    "object_cols = df.select_dtypes(include='object').columns.tolist()\n",
    "#split multiple answers\n",
    "for col in object_cols :\n",
    "    df[col]=split_answers(df[col])\n"
   ]
  },
  {
   "cell_type": "markdown",
   "id": "09383c1d-7edf-43d7-9cbe-3ccd90dd88c4",
   "metadata": {},
   "source": [
    "# Export Data"
   ]
  },
  {
   "cell_type": "code",
   "execution_count": 34,
   "id": "92ad1ef9-8652-48a4-b8e5-93d64e82927a",
   "metadata": {},
   "outputs": [],
   "source": [
    "df.to_pickle(EXPORT_PATH)"
   ]
  }
 ],
 "metadata": {
  "kernelspec": {
   "display_name": "Python 3 (ipykernel)",
   "language": "python",
   "name": "python3"
  },
  "language_info": {
   "codemirror_mode": {
    "name": "ipython",
    "version": 3
   },
   "file_extension": ".py",
   "mimetype": "text/x-python",
   "name": "python",
   "nbconvert_exporter": "python",
   "pygments_lexer": "ipython3",
   "version": "3.9.7"
  }
 },
 "nbformat": 4,
 "nbformat_minor": 5
}
